{
 "cells": [
  {
   "cell_type": "code",
   "execution_count": 1,
   "metadata": {},
   "outputs": [],
   "source": [
    "from utils.eval_utils import SA_CNN_eval, rally_wise_video_trimming_eval, transformer_eval, hit_frame_detection_eval"
   ]
  },
  {
   "cell_type": "markdown",
   "metadata": {},
   "source": [
    "## Evaluation of SA-CNN\n",
    "- Note that the full dataset is too large to put into code & data appendix so only part of the data is uploaded to CMT."
   ]
  },
  {
   "cell_type": "code",
   "execution_count": 2,
   "metadata": {},
   "outputs": [
    {
     "name": "stdout",
     "output_type": "stream",
     "text": [
      "==============================\n",
      "SA-CNN Evaluation:\n",
      "------------------\n",
      "Training Data Count: 62970\n",
      "Testing Data Count: 49690\n",
      "------------------\n",
      "Accuracy: 0.9976\n",
      "Precision: 0.9903\n",
      "Recall: 1.0000\n",
      "F1-score: 0.9951\n",
      "==============================\n"
     ]
    }
   ],
   "source": [
    "SA_CNN_eval('../datasets/shot_angle_dataset')"
   ]
  },
  {
   "cell_type": "markdown",
   "metadata": {},
   "source": [
    "## Evaluation of Rally-wise Video Trimming Module"
   ]
  },
  {
   "cell_type": "code",
   "execution_count": 3,
   "metadata": {},
   "outputs": [
    {
     "name": "stdout",
     "output_type": "stream",
     "text": [
      "==============================\n",
      "Correctly predicted:  287\n",
      "Extra Trimmed:  33\n",
      "Missed:  36\n",
      "------------------\n",
      "Total Trimmed:  320\n",
      "Total True:  323\n",
      "------------------\n",
      "Accuracy: 0.8062\n",
      "Precision: 0.8969\n",
      "Recall: 0.8885\n",
      "F1-score: 0.8927\n",
      "==============================\n"
     ]
    }
   ],
   "source": [
    "correctly_trimmed = rally_wise_video_trimming_eval('../outputs/rallies', '../datasets/S2-Labeling_dataset')"
   ]
  },
  {
   "cell_type": "markdown",
   "metadata": {},
   "source": [
    "## Evaluation of Transformer"
   ]
  },
  {
   "cell_type": "code",
   "execution_count": 4,
   "metadata": {},
   "outputs": [
    {
     "name": "stdout",
     "output_type": "stream",
     "text": [
      "==============================\n",
      "Test Matches:\n",
      "QF  MS  CHOU Tien Chen (TPE) [4] vs Jonatan CHRISTIE (INA) [6]  BWF 2019\n",
      "QF  MS  Anthony Sinisuka GINTING (INA) [8] vs CHOU Tien Chen (TPE) [2]  BWF 2019\n",
      "==============================\n",
      "Transformer Evaluation:\n",
      "Testing Data Keypoint Sequences: 253\n",
      "Testing Data Keypoint Pairs: 37288\n",
      "------------------\n",
      "d: 0\n",
      "Accuracy: 0.9717\n",
      "Precision: 0.9798\n",
      "Recall: 0.9410\n",
      "F1-score: 0.9600\n",
      "------------------\n",
      "d: 1\n",
      "Accuracy: 0.9275\n",
      "Precision: 0.8879\n",
      "Recall: 0.8976\n",
      "F1-score: 0.8927\n",
      "------------------\n",
      "d: 2\n",
      "Accuracy: 0.9295\n",
      "Precision: 0.8824\n",
      "Recall: 0.9090\n",
      "F1-score: 0.8955\n",
      "==============================\n"
     ]
    }
   ],
   "source": [
    "transformer_eval('../datasets/KSeq_test_dataset')"
   ]
  },
  {
   "cell_type": "code",
   "execution_count": 5,
   "metadata": {},
   "outputs": [
    {
     "name": "stdout",
     "output_type": "stream",
     "text": [
      "==============================\n",
      "Test Matches:\n",
      "QF  MS  CHOU Tien Chen (TPE) [4] vs Jonatan CHRISTIE (INA) [6]  BWF 2019\n",
      "QF  MS  Anthony Sinisuka GINTING (INA) [8] vs CHOU Tien Chen (TPE) [2]  BWF 2019\n",
      "Anthony_Sinisuka_GINTING_Anders_ANTONSEN_Indonesia_Masters_2020_Final\n",
      "Anthony_Sinisuka_GINTING_Viktor_AXELSEN _Indonesia_Masters_2020_SemiFinals\n",
      "==============================\n",
      "Interval: +-5\n",
      "------------------\n",
      "Accuracy: 0.9585\n",
      "Precision: 0.5454\n",
      "Recall: 0.7721\n",
      "F1-score: 0.6392\n",
      "==============================\n",
      "Interval: +-15\n",
      "------------------\n",
      "Accuracy: 0.9765\n",
      "Precision: 0.6787\n",
      "Recall: 0.9608\n",
      "F1-score: 0.7955\n",
      "==============================\n",
      "Interval: +-25\n",
      "------------------\n",
      "Accuracy: 0.9782\n",
      "Precision: 0.6915\n",
      "Recall: 0.9790\n",
      "F1-score: 0.8105\n",
      "==============================\n"
     ]
    }
   ],
   "source": [
    "hit_frame_detection_eval('../datasets/KSeq_test_dataset',\n",
    "                         '../datasets/S2-Labeling_dataset',\n",
    "                         '../outputs/joints',\n",
    "                         [5, 15, 25],\n",
    "                         correctly_trimmed)"
   ]
  }
 ],
 "metadata": {
  "kernelspec": {
   "display_name": "pytorch10",
   "language": "python",
   "name": "python3"
  },
  "language_info": {
   "codemirror_mode": {
    "name": "ipython",
    "version": 3
   },
   "file_extension": ".py",
   "mimetype": "text/x-python",
   "name": "python",
   "nbconvert_exporter": "python",
   "pygments_lexer": "ipython3",
   "version": "3.8.16"
  },
  "orig_nbformat": 4
 },
 "nbformat": 4,
 "nbformat_minor": 2
}
